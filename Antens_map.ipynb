{
 "cells": [
  {
   "attachments": {},
   "cell_type": "markdown",
   "metadata": {},
   "source": [
    "<div style=\"background-image: linear-gradient(to right, #4b4cff , #00d4ff); text-align: center; padding: 50px;\">\n",
    "  <h1 style=\"font-family: 'Segoe UI', Tahoma, Geneva, Verdana, sans-serif; font-size: 48px; color: white; text-shadow: 2px 2px #4b4cff;\">\n",
    "    IPBD\n",
    "  </h1>\n",
    "</div>"
   ]
  },
  {
   "attachments": {},
   "cell_type": "markdown",
   "metadata": {},
   "source": [
    "<h1 style=\"color:white; background-color: #ADD8E6; padding:15px; text-align: center;\">\n",
    "Map\n",
    "</h1>"
   ]
  },
  {
   "attachments": {},
   "cell_type": "markdown",
   "metadata": {},
   "source": [
    "<h2 style=\"color:#f7ce5b; font-family: Arial, sans-serif; font-size: 40px; margin-top: 50px; border-bottom: 2px solid #f7ce5b;\">\n",
    "Library\n",
    "</h2>"
   ]
  },
  {
   "cell_type": "code",
   "execution_count": 15,
   "metadata": {},
   "outputs": [],
   "source": [
    "import pandas as pd\n",
    "import folium\n",
    "from folium.plugins import MarkerCluster"
   ]
  },
  {
   "attachments": {},
   "cell_type": "markdown",
   "metadata": {},
   "source": [
    "<h2 style=\"color:#f7ce5b; font-family: Arial, sans-serif; font-size: 40px; margin-top: 50px; border-bottom: 2px solid #f7ce5b;\">\n",
    "Data\n",
    "</h2>"
   ]
  },
  {
   "cell_type": "code",
   "execution_count": 27,
   "metadata": {},
   "outputs": [],
   "source": [
    "data = pd.read_csv(\"./data/new_data_reseaux.csv\")\n",
    "display(data)"
   ]
  },
  {
   "attachments": {},
   "cell_type": "markdown",
   "metadata": {},
   "source": [
    "<h2 style=\"color:#f7ce5b; font-family: Arial, sans-serif; font-size: 40px; margin-top: 50px; border-bottom: 2px solid #f7ce5b;\">\n",
    "Main\n",
    "</h2>"
   ]
  },
  {
   "attachments": {},
   "cell_type": "markdown",
   "metadata": {},
   "source": [
    "<h3 style=\"color:#c38d9e; font-family: Arial, sans-serif; font-size: 24px; margin-top: 40px; text-align: center;\">\n",
    "Map_Maker\n",
    "</h3>"
   ]
  },
  {
   "cell_type": "code",
   "execution_count": 17,
   "metadata": {},
   "outputs": [],
   "source": [
    "def Map_maker(data) :\n",
    "    location_counts = data.groupby(['latitude', 'longitude']).size().reset_index(name='counts')\n",
    "    m = folium.Map(location=[0, 0], zoom_start=2)\n",
    "    marker_cluster = MarkerCluster(radius=50)\n",
    "\n",
    "    for _, row in location_counts.iterrows():\n",
    "        count = row['counts']\n",
    "        lat, lon = row['latitude'], row['longitude']\n",
    "        tooltip = f\"{count} antens at ({lat:.2f}, {lon:.2f})\"\n",
    "        folium.Marker(location=[lat, lon], tooltip=tooltip).add_to(marker_cluster)\n",
    "\n",
    "    marker_cluster.add_to(m)\n",
    "\n",
    "    m.save(f'./Maps/antens_map.html')"
   ]
  },
  {
   "attachments": {},
   "cell_type": "markdown",
   "metadata": {},
   "source": [
    "<h3 style=\"color:#c38d9e; font-family: Arial, sans-serif; font-size: 24px; margin-top: 40px; text-align: center;\">\n",
    "Map_Maker_France\n",
    "</h3>"
   ]
  },
  {
   "cell_type": "code",
   "execution_count": 21,
   "metadata": {},
   "outputs": [],
   "source": [
    "def Map_maker_France(data) :\n",
    "    france_bounds = [41.3672, -9.5334, 51.0920, 9.5591] # min lat, min lon, max lat, max lon\n",
    "    data_fr = data.loc[(data['latitude'] >= france_bounds[0]) & (data['latitude'] <= france_bounds[2]) &\n",
    "                       (data['longitude'] >= france_bounds[1]) & (data['longitude'] <= france_bounds[3])]\n",
    "\n",
    "    location_counts = data_fr.groupby(['latitude', 'longitude']).size().reset_index(name='counts')\n",
    "    m = folium.Map(location=[46.2276, 2.2137], zoom_start=2)\n",
    "    marker_cluster = MarkerCluster(radius=50)\n",
    "\n",
    "    for _, row in location_counts.iterrows():\n",
    "        count = row['counts']\n",
    "        lat, lon = row['latitude'], row['longitude']\n",
    "        tooltip = f\"{count} antens at ({lat:.2f}, {lon:.2f})\"\n",
    "        folium.Marker(location=[lat, lon], tooltip=tooltip).add_to(marker_cluster)\n",
    "\n",
    "    marker_cluster.add_to(m)\n",
    "\n",
    "    m.fit_bounds([[france_bounds[0], france_bounds[1]], [france_bounds[2], france_bounds[3]]])\n",
    "\n",
    "    m.save(f'./Maps/France_antens_map.html')"
   ]
  },
  {
   "attachments": {},
   "cell_type": "markdown",
   "metadata": {},
   "source": [
    "<h3 style=\"color:#c38d9e; font-family: Arial, sans-serif; font-size: 24px; margin-top: 40px; text-align: center;\">\n",
    "Map_Maker_France_5G\n",
    "</h3>"
   ]
  },
  {
   "cell_type": "code",
   "execution_count": 24,
   "metadata": {},
   "outputs": [],
   "source": [
    "def Map_maker_France_5G(data) :\n",
    "    france_bounds = [41.3672, -9.5334, 51.0920, 9.5591] # min lat, min lon, max lat, max lon\n",
    "    data_fr = data.loc[(data['latitude'] >= france_bounds[0]) & (data['latitude'] <= france_bounds[2]) &\n",
    "                       (data['longitude'] >= france_bounds[1]) & (data['longitude'] <= france_bounds[3])]\n",
    "    data_fr = data_fr[data_fr['generation'] == '5G']\n",
    "    location_counts = data_fr.groupby(['latitude', 'longitude']).size().reset_index(name='counts')\n",
    "    m = folium.Map(location=[46.2276, 2.2137], zoom_start=2)\n",
    "    marker_cluster = MarkerCluster(radius=50)\n",
    "\n",
    "    for _, row in location_counts.iterrows():\n",
    "        count = row['counts']\n",
    "        lat, lon = row['latitude'], row['longitude']\n",
    "        tooltip = f\"{count} antens at ({lat:.2f}, {lon:.2f})\"\n",
    "        folium.Marker(location=[lat, lon], tooltip=tooltip).add_to(marker_cluster)\n",
    "\n",
    "    marker_cluster.add_to(m)\n",
    "\n",
    "    m.fit_bounds([[france_bounds[0], france_bounds[1]], [france_bounds[2], france_bounds[3]]])\n",
    "\n",
    "    m.save(f'./Maps/France5G_antens_map.html')"
   ]
  },
  {
   "cell_type": "code",
   "execution_count": 25,
   "metadata": {},
   "outputs": [],
   "source": [
    "Map_maker(data)\n",
    "Map_maker_France(data)\n",
    "Map_maker_France_5G(data)"
   ]
  }
 ],
 "metadata": {
  "kernelspec": {
   "display_name": "base",
   "language": "python",
   "name": "python3"
  },
  "language_info": {
   "codemirror_mode": {
    "name": "ipython",
    "version": 3
   },
   "file_extension": ".py",
   "mimetype": "text/x-python",
   "name": "python",
   "nbconvert_exporter": "python",
   "pygments_lexer": "ipython3",
   "version": "3.9.7"
  },
  "orig_nbformat": 4
 },
 "nbformat": 4,
 "nbformat_minor": 2
}
